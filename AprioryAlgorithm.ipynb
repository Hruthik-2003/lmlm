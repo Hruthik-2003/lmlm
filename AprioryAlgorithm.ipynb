{
 "cells": [
  {
   "cell_type": "code",
   "execution_count": 2,
   "id": "fc1e677b-2f80-43a1-888f-79227773f5de",
   "metadata": {},
   "outputs": [],
   "source": []
  },
  {
   "cell_type": "code",
   "execution_count": 47,
   "id": "0fd62e80-58e2-417d-b4ce-9e9f17802081",
   "metadata": {},
   "outputs": [],
   "source": [
    "# store_data=pd.read_csv(\"Market_Basket_Optimisation.csv\",header=None)\n",
    "# # store_data=store_data.fillna(0)\n",
    "# # store_data.dropna()\n",
    "# num_records=len(store_data)\n",
    "# num_records"
   ]
  },
  {
   "cell_type": "code",
   "execution_count": 49,
   "id": "dca88e3d-7906-4910-a909-b8855cad52c8",
   "metadata": {},
   "outputs": [],
   "source": [
    "# records=[]\n",
    "# for i in range(0,num_records):\n",
    "#     records.append([str(store_data.values[i,j])  for j in range(0,20)])"
   ]
  },
  {
   "cell_type": "code",
   "execution_count": 50,
   "id": "220a5f1d-d89b-4668-89d8-20d6cb878446",
   "metadata": {},
   "outputs": [],
   "source": [
    "# association_rule=apriori(records,min_support=0.003,min_confidance=0.20,min_lift=3,min_length=2)\n",
    "# association_results=list(association_rule)"
   ]
  },
  {
   "cell_type": "code",
   "execution_count": 51,
   "id": "c35df9e3-62f3-4d56-ac05-962e64944a41",
   "metadata": {},
   "outputs": [],
   "source": [
    "# print(len(association_results))"
   ]
  },
  {
   "cell_type": "code",
   "execution_count": 52,
   "id": "6f19407c-e5c0-4b47-a85e-3ced6a612724",
   "metadata": {},
   "outputs": [],
   "source": [
    "# print(association_results[0])"
   ]
  },
  {
   "cell_type": "code",
   "execution_count": 1,
   "id": "3f2dc388-7c33-4193-8a20-31212d2d05c1",
   "metadata": {},
   "outputs": [
    {
     "name": "stdout",
     "output_type": "stream",
     "text": [
      "Collecting mlxtend\n",
      "  Downloading mlxtend-0.23.1-py3-none-any.whl.metadata (7.3 kB)\n",
      "Requirement already satisfied: scipy>=1.2.1 in c:\\python312\\lib\\site-packages (from mlxtend) (1.14.1)\n",
      "Requirement already satisfied: numpy>=1.16.2 in c:\\python312\\lib\\site-packages (from mlxtend) (2.1.0)\n",
      "Requirement already satisfied: pandas>=0.24.2 in c:\\python312\\lib\\site-packages (from mlxtend) (2.2.2)\n",
      "Requirement already satisfied: scikit-learn>=1.0.2 in c:\\python312\\lib\\site-packages (from mlxtend) (1.5.1)\n",
      "Requirement already satisfied: matplotlib>=3.0.0 in c:\\python312\\lib\\site-packages (from mlxtend) (3.9.2)\n",
      "Requirement already satisfied: joblib>=0.13.2 in c:\\python312\\lib\\site-packages (from mlxtend) (1.4.2)\n",
      "Requirement already satisfied: contourpy>=1.0.1 in c:\\python312\\lib\\site-packages (from matplotlib>=3.0.0->mlxtend) (1.2.1)\n",
      "Requirement already satisfied: cycler>=0.10 in c:\\python312\\lib\\site-packages (from matplotlib>=3.0.0->mlxtend) (0.12.1)\n",
      "Requirement already satisfied: fonttools>=4.22.0 in c:\\python312\\lib\\site-packages (from matplotlib>=3.0.0->mlxtend) (4.53.1)\n",
      "Requirement already satisfied: kiwisolver>=1.3.1 in c:\\python312\\lib\\site-packages (from matplotlib>=3.0.0->mlxtend) (1.4.5)\n",
      "Requirement already satisfied: packaging>=20.0 in c:\\python312\\lib\\site-packages (from matplotlib>=3.0.0->mlxtend) (24.1)\n",
      "Requirement already satisfied: pillow>=8 in c:\\python312\\lib\\site-packages (from matplotlib>=3.0.0->mlxtend) (10.4.0)\n",
      "Requirement already satisfied: pyparsing>=2.3.1 in c:\\python312\\lib\\site-packages (from matplotlib>=3.0.0->mlxtend) (3.1.4)\n",
      "Requirement already satisfied: python-dateutil>=2.7 in c:\\python312\\lib\\site-packages (from matplotlib>=3.0.0->mlxtend) (2.9.0.post0)\n",
      "Requirement already satisfied: pytz>=2020.1 in c:\\python312\\lib\\site-packages (from pandas>=0.24.2->mlxtend) (2024.1)\n",
      "Requirement already satisfied: tzdata>=2022.7 in c:\\python312\\lib\\site-packages (from pandas>=0.24.2->mlxtend) (2024.1)\n",
      "Requirement already satisfied: threadpoolctl>=3.1.0 in c:\\python312\\lib\\site-packages (from scikit-learn>=1.0.2->mlxtend) (3.5.0)\n",
      "Requirement already satisfied: six>=1.5 in c:\\python312\\lib\\site-packages (from python-dateutil>=2.7->matplotlib>=3.0.0->mlxtend) (1.16.0)\n",
      "Downloading mlxtend-0.23.1-py3-none-any.whl (1.4 MB)\n",
      "   ---------------------------------------- 0.0/1.4 MB ? eta -:--:--\n",
      "   ------------------------------------ --- 1.3/1.4 MB 13.4 MB/s eta 0:00:01\n",
      "   ---------------------------------------- 1.4/1.4 MB 10.8 MB/s eta 0:00:00\n",
      "Installing collected packages: mlxtend\n",
      "Successfully installed mlxtend-0.23.1\n",
      "Note: you may need to restart the kernel to use updated packages.\n"
     ]
    }
   ],
   "source": [
    "pip install mlxtend"
   ]
  },
  {
   "cell_type": "code",
   "execution_count": 12,
   "id": "cbb29684-62d2-4969-9679-2a97a81bb259",
   "metadata": {},
   "outputs": [
    {
     "name": "stdout",
     "output_type": "stream",
     "text": [
      "Frequent Itemsets:\n",
      "    support               itemsets\n",
      "0  0.363636               (cookie)\n",
      "1  0.454545                 (milk)\n",
      "2  0.409091                 (eggs)\n",
      "3  0.500000                (bread)\n",
      "4  0.363636         (cookie, milk)\n",
      "5  0.363636        (bread, cookie)\n",
      "6  0.409091          (bread, milk)\n",
      "7  0.363636  (bread, cookie, milk)\n",
      "\n",
      "Association Rules:\n",
      "        antecedents      consequents  antecedent support  consequent support  \\\n",
      "0          (cookie)           (milk)            0.363636            0.454545   \n",
      "1            (milk)         (cookie)            0.454545            0.363636   \n",
      "2           (bread)         (cookie)            0.500000            0.363636   \n",
      "3          (cookie)          (bread)            0.363636            0.500000   \n",
      "4           (bread)           (milk)            0.500000            0.454545   \n",
      "5            (milk)          (bread)            0.454545            0.500000   \n",
      "6   (bread, cookie)           (milk)            0.363636            0.454545   \n",
      "7     (bread, milk)         (cookie)            0.409091            0.363636   \n",
      "8    (cookie, milk)          (bread)            0.363636            0.500000   \n",
      "9           (bread)   (cookie, milk)            0.500000            0.363636   \n",
      "10         (cookie)    (bread, milk)            0.363636            0.409091   \n",
      "11           (milk)  (bread, cookie)            0.454545            0.363636   \n",
      "\n",
      "     support  confidence      lift  leverage  conviction  zhangs_metric  \n",
      "0   0.363636    1.000000  2.200000  0.198347         inf       0.857143  \n",
      "1   0.363636    0.800000  2.200000  0.198347    3.181818       1.000000  \n",
      "2   0.363636    0.727273  2.000000  0.181818    2.333333       1.000000  \n",
      "3   0.363636    1.000000  2.000000  0.181818         inf       0.785714  \n",
      "4   0.409091    0.818182  1.800000  0.181818    3.000000       0.888889  \n",
      "5   0.409091    0.900000  1.800000  0.181818    5.000000       0.814815  \n",
      "6   0.363636    1.000000  2.200000  0.198347         inf       0.857143  \n",
      "7   0.363636    0.888889  2.444444  0.214876    5.727273       1.000000  \n",
      "8   0.363636    1.000000  2.000000  0.181818         inf       0.785714  \n",
      "9   0.363636    0.727273  2.000000  0.181818    2.333333       1.000000  \n",
      "10  0.363636    1.000000  2.444444  0.214876         inf       0.928571  \n",
      "11  0.363636    0.800000  2.200000  0.198347    3.181818       1.000000  \n"
     ]
    },
    {
     "name": "stderr",
     "output_type": "stream",
     "text": [
      "C:\\Python312\\Lib\\site-packages\\mlxtend\\frequent_patterns\\fpcommon.py:109: DeprecationWarning: DataFrames with non-bool types result in worse computationalperformance and their support might be discontinued in the future.Please use a DataFrame with bool type\n",
      "  warnings.warn(\n"
     ]
    }
   ],
   "source": [
    "##### import pandas as pd \n",
    "from mlxtend.frequent_patterns import apriori, association_rules\n",
    "\n",
    "df=pd.read_csv(\"basket.csv\")\n",
    "\n",
    "all_items=list(item for sublist in df.values.tolist() for item in sublist if pd.notna(item))\n",
    "unique_items = list(set(all_items))[:200]\n",
    "df_subset = df.head(200)\n",
    "encoded_df=pd.DataFrame(0,index=range(len(df)),columns=unique_items)\n",
    "for index,transaction in df_subset.iterrows():\n",
    "    for item in transaction.dropna():\n",
    "        encoded_df.loc[index,item]=1\n",
    "\n",
    "# print(encoded_df)\n",
    "min_support=0.3\n",
    "min_confident=0.7\n",
    "\n",
    "# frequent_items=apriori(encoded_df,minsupport=min_support,use_colnames=True)\n",
    "# rules=association_rules(frequent_items,metric=\"confidence\",min_threshold=min_confidece)\n",
    "# Step 4: Apply the Apriori algorithm to find frequent itemsets\n",
    "frequent_items = apriori(encoded_df, min_support=min_support, use_colnames=True)\n",
    "\n",
    "# Step 5: Generate association rules based on the frequent itemsets\n",
    "rules = association_rules(frequent_items, metric=\"confidence\", min_threshold=min_confident)\n",
    "\n",
    "# Output the frequent itemsets and association rules\n",
    "print(\"Frequent Itemsets:\")\n",
    "print(frequent_items)\n",
    "\n",
    "print(\"\\nAssociation Rules:\")\n",
    "print(rules)"
   ]
  },
  {
   "cell_type": "code",
   "execution_count": null,
   "id": "2d12a8da-d16f-4d53-a357-c87042b47ff7",
   "metadata": {},
   "outputs": [],
   "source": []
  },
  {
   "cell_type": "code",
   "execution_count": 12,
   "id": "374356ca-2508-445b-8de9-5d1cff537aff",
   "metadata": {},
   "outputs": [],
   "source": [
    "\n"
   ]
  },
  {
   "cell_type": "code",
   "execution_count": null,
   "id": "1fa39f62-fbb2-4bd2-a401-6e2bf145df7f",
   "metadata": {
    "scrolled": true
   },
   "outputs": [],
   "source": []
  },
  {
   "cell_type": "code",
   "execution_count": null,
   "id": "d5e8ae2c-5dc1-443a-91d0-44abb0146789",
   "metadata": {},
   "outputs": [],
   "source": []
  },
  {
   "cell_type": "code",
   "execution_count": 64,
   "id": "3870c643-2e5d-42e7-b677-0694b902c6de",
   "metadata": {},
   "outputs": [],
   "source": [
    "# print(encoded_df)"
   ]
  },
  {
   "cell_type": "code",
   "execution_count": null,
   "id": "9b50f7f7-ec4e-4aaf-b681-8af81ed4fad7",
   "metadata": {},
   "outputs": [],
   "source": []
  },
  {
   "cell_type": "code",
   "execution_count": 66,
   "id": "62c3298f-71d3-4674-b6c2-7ddbf06d52b0",
   "metadata": {},
   "outputs": [
    {
     "name": "stdout",
     "output_type": "stream",
     "text": [
      "Frequent Itemsets:\n",
      "     support               itemsets\n",
      "0   0.421053                (bread)\n",
      "1   0.315789               (diaper)\n",
      "2   0.368421                 (milk)\n",
      "3   0.263158               (cookie)\n",
      "4   0.421053                 (eggs)\n",
      "5   0.263158        (bread, diaper)\n",
      "6   0.210526         (milk, diaper)\n",
      "7   0.315789          (bread, milk)\n",
      "8   0.263158         (milk, cookie)\n",
      "9   0.263158        (bread, cookie)\n",
      "10  0.263158  (bread, milk, cookie)\n",
      "\n",
      "Best Association Rules (sorted by confidence and support):\n",
      "        antecedents      consequents  antecedent support  ...  leverage  conviction  zhangs_metric\n",
      "4          (cookie)           (milk)            0.263158  ...  0.166205         inf       0.857143\n",
      "5          (cookie)          (bread)            0.263158  ...  0.152355         inf       0.785714\n",
      "7   (bread, cookie)           (milk)            0.263158  ...  0.166205         inf       0.857143\n",
      "8    (milk, cookie)          (bread)            0.263158  ...  0.152355         inf       0.785714\n",
      "10         (cookie)    (bread, milk)            0.263158  ...  0.180055         inf       0.928571\n",
      "2            (milk)          (bread)            0.368421  ...  0.160665    4.052632       0.805556\n",
      "0          (diaper)          (bread)            0.315789  ...  0.130194    3.473684       0.723077\n",
      "6     (bread, milk)         (cookie)            0.315789  ...  0.180055    4.421053       1.000000\n",
      "1           (bread)           (milk)            0.421053  ...  0.160665    2.526316       0.878788\n",
      "3            (milk)         (cookie)            0.368421  ...  0.166205    2.578947       1.000000\n",
      "9            (milk)  (bread, cookie)            0.368421  ...  0.166205    2.578947       1.000000\n",
      "\n",
      "[11 rows x 10 columns]\n"
     ]
    }
   ],
   "source": [
    "import pandas as pd\n",
    "from mlxtend.frequent_patterns import fpgrowth, association_rules\n",
    "\n",
    "# Step 1: Load the dataset\n",
    "df = pd.read_csv(\"basket.csv\")\n",
    "\n",
    "# Step 2: Prepare the dataset by creating a one-hot encoded DataFrame\n",
    "all_items = list(item for sublist in df.values.tolist() for item in sublist if pd.notna(item))\n",
    "\n",
    "# Limit the dataset to the first 200 unique items and 200 rows\n",
    "unique_items = list(set(all_items))[:200]\n",
    "df_subset = df.head(200)\n",
    "\n",
    "# Create a one-hot encoded DataFrame for 200 rows and 200 unique items\n",
    "encoded_df = pd.DataFrame(0, index=range(len(df_subset)), columns=unique_items)\n",
    "\n",
    "# One-hot encode the data\n",
    "for index, transaction in df_subset.iterrows():\n",
    "    for item in transaction.dropna():\n",
    "        if item in unique_items:  # Only include the items in the 200-item subset\n",
    "            encoded_df.loc[index, item] = 1\n",
    "\n",
    "# Step 3: Set minimum support and confidence thresholds\n",
    "min_support = 0.2  # Lower support threshold to capture more itemsets\n",
    "min_confidence = 0.7\n",
    "\n",
    "# Step 4: Apply FP-growth algorithm to find frequent itemsets\n",
    "frequent_items = fpgrowth(encoded_df, min_support=min_support, use_colnames=True)\n",
    "\n",
    "# Step 5: Generate association rules based on the frequent itemsets\n",
    "rules = association_rules(frequent_items, metric=\"confidence\", min_threshold=min_confidence)\n",
    "\n",
    "# Sort the rules by confidence and support for the \"best\" rules\n",
    "best_rules = rules.sort_values(by=['confidence', 'support'], ascending=False)\n",
    "\n",
    "# Output the frequent itemsets and association rules\n",
    "print(\"Frequent Itemsets:\")\n",
    "print(frequent_items)\n",
    "\n",
    "print(\"\\nBest Association Rules (sorted by confidence and support):\")\n",
    "print(best_rules)\n"
   ]
  },
  {
   "cell_type": "code",
   "execution_count": 44,
   "id": "c6f9137b-6c4b-4af8-b0d4-a434305f7fbf",
   "metadata": {},
   "outputs": [
    {
     "data": {
      "image/png": "[encoded data removed]",
      "text/plain": [
       "<Figure size 700x700 with 1 Axes>"
      ]
     },
     "metadata": {},
     "output_type": "display_data"
    }
   ],
   "source": [
    "import pandas as pd\n",
    "import networkx as nx\n",
    "import matplotlib.pyplot as plt\n",
    "from collections import defaultdict\n",
    "\n",
    "# Step 1: Load the dataset\n",
    "df = pd.read_csv(\"basket.csv\")\n",
    "\n",
    "# Step 2: Prepare the dataset (simplified)\n",
    "all_items = list(item for sublist in df.values.tolist() for item in sublist if pd.notna(item))\n",
    "unique_items = list(set(all_items))[:10]  # Limit to 10 unique items for simplicity\n",
    "df_subset = df.head(20)  # Use first 20 transactions\n",
    "\n",
    "# Step 3: One-hot encode the dataset (optional)\n",
    "encoded_df = pd.DataFrame(0, index=range(len(df_subset)), columns=unique_items)\n",
    "for index, transaction in df_subset.iterrows():\n",
    "    for item in transaction.dropna():\n",
    "        if item in unique_items:\n",
    "            encoded_df.loc[index, item] = 1\n",
    "\n",
    "# Step 4: Build a basic FP-tree (simplified for visualization)\n",
    "class TreeNode:\n",
    "    def __init__(self, item, count=1):\n",
    "        self.item = item\n",
    "        self.count = count\n",
    "        self.children = {}\n",
    "        self.parent = None\n",
    "    \n",
    "    def add_child(self, item):\n",
    "        if item not in self.children:\n",
    "            child_node = TreeNode(item)\n",
    "            self.children[item] = child_node\n",
    "            child_node.parent = self\n",
    "        return self.children[item]\n",
    "\n",
    "def build_fp_tree(transactions):\n",
    "    root = TreeNode(\"Root\")\n",
    "    for transaction in transactions:\n",
    "        current_node = root\n",
    "        for item in transaction:\n",
    "            current_node = current_node.add_child(item)\n",
    "            current_node.count += 1\n",
    "    return root\n",
    "\n",
    "# Get transactions (sorted by frequency)\n",
    "def get_transactions(df):\n",
    "    transactions = []\n",
    "    for index, row in df.iterrows():\n",
    "        transaction = [item for item in row.dropna() if item in unique_items]\n",
    "        transactions.append(transaction)\n",
    "    return transactions\n",
    "\n",
    "transactions = get_transactions(df_subset)\n",
    "fp_tree_root = build_fp_tree(transactions)\n",
    "\n",
    "# Step 5: Visualize the FP-tree using networkx\n",
    "def visualize_fp_tree(root):\n",
    "    G = nx.DiGraph()  # Directed graph to represent tree\n",
    "    node_labels = {}\n",
    "\n",
    "    def add_edges(node, parent_name=None):\n",
    "        node_name = f\"{node.item} ({node.count})\"\n",
    "        if parent_name:\n",
    "            G.add_edge(parent_name, node_name)\n",
    "        node_labels[node_name] = f\"{node.item}: {node.count}\"\n",
    "        for child in node.children.values():\n",
    "            add_edges(child, node_name)\n",
    "\n",
    "    add_edges(root)\n",
    "\n",
    "    plt.figure(figsize=(7, 7))\n",
    "    pos = nx.spring_layout(G)  # Layout for tree\n",
    "    nx.draw(G, pos, with_labels=True, node_color=\"skyblue\", node_size=300, font_size=8, font_color=\"black\", font_weight=\"normal\")\n",
    "    # nx.draw_networkx_labels(G, pos, labels=node_labels, font_size=8)\n",
    "    plt.title(\"FP-tree Visualization\")\n",
    "    plt.show()\n",
    "\n",
    "# Step 6: Call the function to visualize the FP-tree\n",
    "visualize_fp_tree(fp_tree_root)\n"
   ]
  },
  {
   "cell_type": "code",
   "execution_count": 69,
   "id": "748ef3bc-39df-422b-9bf5-9b56fc1e7fb7",
   "metadata": {},
   "outputs": [
    {
     "name": "stdout",
     "output_type": "stream",
     "text": [
      "Collecting networkx\n",
      "  Downloading networkx-3.3-py3-none-any.whl.metadata (5.1 kB)\n",
      "Downloading networkx-3.3-py3-none-any.whl (1.7 MB)\n",
      "   ---------------------------------------- 0.0/1.7 MB ? eta -:--:--\n",
      "   ------------------------ --------------- 1.0/1.7 MB 10.1 MB/s eta 0:00:01\n",
      "   ---------------------------------------- 1.7/1.7 MB 10.2 MB/s eta 0:00:00\n",
      "Installing collected packages: networkx\n",
      "Successfully installed networkx-3.3\n",
      "Note: you may need to restart the kernel to use updated packages.\n"
     ]
    }
   ],
   "source": [
    "pip install networkx"
   ]
  },
  {
   "cell_type": "code",
   "execution_count": 71,
   "id": "f05124eb-6375-4263-989c-9f1eb766bee9",
   "metadata": {},
   "outputs": [],
   "source": [
    "import scipy.cluster.hierarchy as sch"
   ]
  },
  {
   "cell_type": "code",
   "execution_count": 72,
   "id": "9844d72c-68a4-4c75-aebf-528aae3acb5f",
   "metadata": {},
   "outputs": [
    {
     "ename": "ModuleNotFoundError",
     "evalue": "No module named 'seaborn'",
     "output_type": "error",
     "traceback": [
      "\u001b[1;31m---------------------------------------------------------------------------\u001b[0m",
      "\u001b[1;31mModuleNotFoundError\u001b[0m                       Traceback (most recent call last)",
      "Cell \u001b[1;32mIn[72], line 1\u001b[0m\n\u001b[1;32m----> 1\u001b[0m \u001b[38;5;28;01mimport\u001b[39;00m \u001b[38;5;21;01mseaborn\u001b[39;00m \u001b[38;5;28;01mas\u001b[39;00m \u001b[38;5;21;01msns\u001b[39;00m\n",
      "\u001b[1;31mModuleNotFoundError\u001b[0m: No module named 'seaborn'"
     ]
    }
   ],
   "source": [
    "import seaborn as sns"
   ]
  },
  {
   "cell_type": "code",
   "execution_count": 46,
   "id": "ea05d7e7-4f85-4b40-9e2e-57025dc38de2",
   "metadata": {},
   "outputs": [
    {
     "name": "stdout",
     "output_type": "stream",
     "text": [
      "Collecting seabornNote: you may need to restart the kernel to use updated packages.\n",
      "\n",
      "  Downloading seaborn-0.13.2-py3-none-any.whl.metadata (5.4 kB)\n",
      "Requirement already satisfied: numpy!=1.24.0,>=1.20 in c:\\python312\\lib\\site-packages (from seaborn) (2.1.0)\n",
      "Requirement already satisfied: pandas>=1.2 in c:\\python312\\lib\\site-packages (from seaborn) (2.2.2)\n",
      "Requirement already satisfied: matplotlib!=3.6.1,>=3.4 in c:\\python312\\lib\\site-packages (from seaborn) (3.9.2)\n",
      "Requirement already satisfied: contourpy>=1.0.1 in c:\\python312\\lib\\site-packages (from matplotlib!=3.6.1,>=3.4->seaborn) (1.2.1)\n",
      "Requirement already satisfied: cycler>=0.10 in c:\\python312\\lib\\site-packages (from matplotlib!=3.6.1,>=3.4->seaborn) (0.12.1)\n",
      "Requirement already satisfied: fonttools>=4.22.0 in c:\\python312\\lib\\site-packages (from matplotlib!=3.6.1,>=3.4->seaborn) (4.53.1)\n",
      "Requirement already satisfied: kiwisolver>=1.3.1 in c:\\python312\\lib\\site-packages (from matplotlib!=3.6.1,>=3.4->seaborn) (1.4.5)\n",
      "Requirement already satisfied: packaging>=20.0 in c:\\python312\\lib\\site-packages (from matplotlib!=3.6.1,>=3.4->seaborn) (24.1)\n",
      "Requirement already satisfied: pillow>=8 in c:\\python312\\lib\\site-packages (from matplotlib!=3.6.1,>=3.4->seaborn) (10.4.0)\n",
      "Requirement already satisfied: pyparsing>=2.3.1 in c:\\python312\\lib\\site-packages (from matplotlib!=3.6.1,>=3.4->seaborn) (3.1.4)\n",
      "Requirement already satisfied: python-dateutil>=2.7 in c:\\python312\\lib\\site-packages (from matplotlib!=3.6.1,>=3.4->seaborn) (2.9.0.post0)\n",
      "Requirement already satisfied: pytz>=2020.1 in c:\\python312\\lib\\site-packages (from pandas>=1.2->seaborn) (2024.1)\n",
      "Requirement already satisfied: tzdata>=2022.7 in c:\\python312\\lib\\site-packages (from pandas>=1.2->seaborn) (2024.1)\n",
      "Requirement already satisfied: six>=1.5 in c:\\python312\\lib\\site-packages (from python-dateutil>=2.7->matplotlib!=3.6.1,>=3.4->seaborn) (1.16.0)\n",
      "Downloading seaborn-0.13.2-py3-none-any.whl (294 kB)\n",
      "Installing collected packages: seaborn\n",
      "Successfully installed seaborn-0.13.2\n"
     ]
    }
   ],
   "source": [
    "pip install seaborn"
   ]
  },
  {
   "cell_type": "code",
   "execution_count": 51,
   "id": "d43340f0-ee6a-4d61-8df7-fb77a11f6483",
   "metadata": {},
   "outputs": [
    {
     "ename": "AttributeError",
     "evalue": "'str' object has no attribute 'head'",
     "output_type": "error",
     "traceback": [
      "\u001b[1;31m---------------------------------------------------------------------------\u001b[0m",
      "\u001b[1;31mAttributeError\u001b[0m                            Traceback (most recent call last)",
      "Cell \u001b[1;32mIn[51], line 48\u001b[0m\n\u001b[0;32m     46\u001b[0m \u001b[38;5;66;03m# Example of creating an FP-Tree with some transactions\u001b[39;00m\n\u001b[0;32m     47\u001b[0m transactions \u001b[38;5;241m=\u001b[39m pd\u001b[38;5;241m.\u001b[39mread_csv(\u001b[38;5;124m\"\u001b[39m\u001b[38;5;124mbasket.csv\u001b[39m\u001b[38;5;124m\"\u001b[39m)\n\u001b[1;32m---> 48\u001b[0m transaction\u001b[38;5;241m=\u001b[39m\u001b[43mtransaction\u001b[49m\u001b[38;5;241;43m.\u001b[39;49m\u001b[43mhead\u001b[49m(\u001b[38;5;241m10\u001b[39m)\n\u001b[0;32m     50\u001b[0m \u001b[38;5;66;03m# Build the FP-Tree\u001b[39;00m\n\u001b[0;32m     51\u001b[0m fp_tree \u001b[38;5;241m=\u001b[39m FPTree()\n",
      "\u001b[1;31mAttributeError\u001b[0m: 'str' object has no attribute 'head'"
     ]
    }
   ],
   "source": [
    "import networkx as nx\n",
    "import matplotlib.pyplot as plt\n",
    "from collections import defaultdict\n",
    "\n",
    "class FPTreeNode:\n",
    "    def __init__(self, item, count, parent):\n",
    "        self.item = item\n",
    "        self.count = count\n",
    "        self.parent = parent\n",
    "        self.children = {}\n",
    "        self.link = None\n",
    "\n",
    "class FPTree:\n",
    "    def __init__(self):\n",
    "        self.root = FPTreeNode(None, 1, None)\n",
    "        self.headers = defaultdict(list)\n",
    "\n",
    "    def insert(self, transaction):\n",
    "        current_node = self.root\n",
    "        for item in transaction:\n",
    "            if item in current_node.children:\n",
    "                current_node.children[item].count += 1\n",
    "            else:\n",
    "                new_node = FPTreeNode(item, 1, current_node)\n",
    "                current_node.children[item] = new_node\n",
    "                self.headers[item].append(new_node)\n",
    "            current_node = current_node.children[item]\n",
    "\n",
    "    def draw_tree(self):\n",
    "        G = nx.DiGraph()\n",
    "        labels = {}\n",
    "\n",
    "        def add_edges(node, parent_name=None):\n",
    "            node_name = f\"{node.item} ({node.count})\" if node.item else \"Root\"\n",
    "            if parent_name:\n",
    "                G.add_edge(parent_name, node_name)\n",
    "            labels[node_name] = node.item\n",
    "            for child in node.children.values():\n",
    "                add_edges(child, node_name)\n",
    "\n",
    "        add_edges(self.root)\n",
    "        pos = nx.spring_layout(G)\n",
    "        nx.draw(G, pos, with_labels=True, labels=labels, node_color=\"skyblue\", node_size=3000, font_size=10, font_weight=\"bold\", arrows=True)\n",
    "        plt.show()\n",
    "\n",
    "# Example of creating an FP-Tree with some transactions\n",
    "transactions = pd.read_csv(\"basket.csv\")\n",
    "transaction=transaction\n",
    "\n",
    "# Build the FP-Tree\n",
    "fp_tree = FPTree()\n",
    "for transaction in transactions:\n",
    "    fp_tree.insert(sorted(transaction))  # Insert sorted transactions\n",
    "\n",
    "# Visualize the FP-Tree\n",
    "fp_tree.draw_tree()\n"
   ]
  },
  {
   "cell_type": "code",
   "execution_count": 54,
   "id": "d264d956-ffef-4bad-b327-7cfb9dc122fa",
   "metadata": {},
   "outputs": [
    {
     "name": "stdout",
     "output_type": "stream",
     "text": [
      "Frequent Itemsets:\n",
      "   support         itemsets\n",
      "0      0.8        (diapers)\n",
      "1      0.8           (milk)\n",
      "2      0.6          (bread)\n",
      "3      0.6           (beer)\n",
      "4      0.8  (diapers, milk)\n",
      "\n",
      "Association Rules:\n",
      "  antecedents consequents  antecedent support  consequent support  support  \\\n",
      "0   (diapers)      (milk)                 0.8                 0.8      0.8   \n",
      "1      (milk)   (diapers)                 0.8                 0.8      0.8   \n",
      "\n",
      "   confidence  lift  leverage  conviction  zhangs_metric  \n",
      "0         1.0  1.25      0.16         inf            1.0  \n",
      "1         1.0  1.25      0.16         inf            1.0  \n"
     ]
    },
    {
     "name": "stderr",
     "output_type": "stream",
     "text": [
      "C:\\Python312\\Lib\\site-packages\\mlxtend\\frequent_patterns\\fpcommon.py:109: DeprecationWarning: DataFrames with non-bool types result in worse computationalperformance and their support might be discontinued in the future.Please use a DataFrame with bool type\n",
      "  warnings.warn(\n"
     ]
    }
   ],
   "source": [
    "import pandas as pd\n",
    "from mlxtend.frequent_patterns import fpgrowth\n",
    "from mlxtend.frequent_patterns import association_rules\n",
    "\n",
    "# Example basket dataset\n",
    "# data = {'bread': [1, 0, 1, 1, 0],\n",
    "#         'milk': [1, 1, 0, 1, 1],\n",
    "#         'beer': [0, 1, 1, 1, 0],\n",
    "#         'diapers': [1, 1, 0, 1, 1],\n",
    "#         'eggs': [0, 0, 1, 0, 1]}\n",
    "\n",
    "# # Convert data into a DataFrame\n",
    "# df = pd.DataFrame(df)\n",
    "\n",
    "# Run the FP-Growth algorithm with a minimum support threshold\n",
    "frequent_itemsets = fpgrowth(df, min_support=0.6, use_colnames=True)\n",
    "\n",
    "# Display the frequent itemsets\n",
    "print(\"Frequent Itemsets:\")\n",
    "print(frequent_itemsets)\n",
    "\n",
    "# Derive association rules based on confidence\n",
    "rules = association_rules(frequent_itemsets, metric=\"confidence\", min_threshold=0.7)\n",
    "\n",
    "# Display the association rules\n",
    "print(\"\\nAssociation Rules:\")\n",
    "print(rules)\n"
   ]
  },
  {
   "cell_type": "code",
   "execution_count": 62,
   "id": "66bb5378-4f49-44e9-8c00-70d47357573d",
   "metadata": {},
   "outputs": [
    {
     "name": "stdout",
     "output_type": "stream",
     "text": [
      "\n",
      "FP-tree structure:\n"
     ]
    },
    {
     "data": {
      "image/png": "[encoded data removed]",
      "text/plain": [
       "<Figure size 640x480 with 1 Axes>"
      ]
     },
     "metadata": {},
     "output_type": "display_data"
    }
   ],
   "source": []
  },
  {
   "cell_type": "code",
   "execution_count": null,
   "id": "cd58cc3b-91a1-440f-96ca-20aa302cdab6",
   "metadata": {},
   "outputs": [],
   "source": []
  }
 ],
 "metadata": {
  "kernelspec": {
   "display_name": "Python 3 (ipykernel)",
   "language": "python",
   "name": "python3"
  },
  "language_info": {
   "codemirror_mode": {
    "name": "ipython",
    "version": 3
   },
   "file_extension": ".py",
   "mimetype": "text/x-python",
   "name": "python",
   "nbconvert_exporter": "python",
   "pygments_lexer": "ipython3",
   "version": "3.12.5"
  },
  "widgets": {
   "application/vnd.jupyter.widget-state+json": {
    "state": {},
    "version_major": 2,
    "version_minor": 0
   }
  }
 },
 "nbformat": 4,
 "nbformat_minor": 5
}
